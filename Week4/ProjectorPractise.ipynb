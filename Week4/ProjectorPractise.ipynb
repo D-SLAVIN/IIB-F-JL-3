{
 "cells": [
  {
   "cell_type": "code",
   "execution_count": 1,
   "metadata": {},
   "outputs": [
    {
     "name": "stdout",
     "output_type": "stream",
     "text": [
      "Failed to import cef_gui, cef functions will be unavailable\n"
     ]
    }
   ],
   "source": [
    "from clifford.tools.g3c import *\n",
    "from clifford.tools.g3c.rotor_parameterisation import *\n",
    "from pyganja import *\n"
   ]
  },
  {
   "cell_type": "code",
   "execution_count": 51,
   "metadata": {},
   "outputs": [
    {
     "name": "stdout",
     "output_type": "stream",
     "text": [
      "(5.0^e1) + (12.0^e4) + (13.0^e5)\n",
      "-(0.5^e4) + (0.5^e5)\n",
      "True\n",
      "True\n"
     ]
    }
   ],
   "source": [
    "#define edge point\n",
    "e = 5*e1 \n",
    "E = up(e)\n",
    "print(E)\n",
    "\n",
    "#define centre point\n",
    "c = 0\n",
    "C = up(c)\n",
    "print(C)\n",
    "\n",
    "#Create Point Pair\n",
    "pp = C^E\n",
    "\n",
    "\n",
    "#create F using the normalisation of the bivector\n",
    "\n",
    "F = pp.normal()\n",
    "\n",
    "#create P\n",
    "\n",
    "P = 0.5*(1 + F)\n",
    "\n",
    "#extract first half element of bivector and verify\n",
    "l = - ~P*((pp)|einf)\n",
    "print(l == C)\n",
    "\n",
    "#extract second half and verify\n",
    "k = P*((pp)|einf)\n",
    "print(k == E)\n"
   ]
  }
 ],
 "metadata": {
  "kernelspec": {
   "display_name": "Python 3",
   "language": "python",
   "name": "python3"
  },
  "language_info": {
   "codemirror_mode": {
    "name": "ipython",
    "version": 3
   },
   "file_extension": ".py",
   "mimetype": "text/x-python",
   "name": "python",
   "nbconvert_exporter": "python",
   "pygments_lexer": "ipython3",
   "version": "3.7.4"
  }
 },
 "nbformat": 4,
 "nbformat_minor": 2
}
