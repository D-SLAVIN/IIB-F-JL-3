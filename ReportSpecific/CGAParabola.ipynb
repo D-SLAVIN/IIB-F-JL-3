{
 "cells": [
  {
   "cell_type": "code",
   "execution_count": 1,
   "metadata": {},
   "outputs": [
    {
     "name": "stdout",
     "output_type": "stream",
     "text": [
      "Failed to import cef_gui, cef functions will be unavailable\n"
     ]
    }
   ],
   "source": [
    "from clifford.tools.g3c import *\n",
    "from clifford.tools.g3c.rotor_parameterisation import *\n",
    "from pyganja import *\n",
    "import numpy as np\n"
   ]
  },
  {
   "cell_type": "code",
   "execution_count": 24,
   "metadata": {},
   "outputs": [],
   "source": [
    "a = 0.5\n",
    "\n",
    "tau = 8"
   ]
  },
  {
   "cell_type": "code",
   "execution_count": 25,
   "metadata": {},
   "outputs": [],
   "source": [
    "BR = e1^e2\n",
    "BS = e4^e5\n",
    "N = 20 \n",
    "theta = 2*np.arctan(tau/2)\n",
    "c = (np.pi-theta)/2\n",
    "\n",
    "\n",
    "R = general_exp(-BR*theta/(N*2))\n",
    "R0 = general_exp(-BR*c/2)\n",
    "X0 = up(e1)\n",
    "\n",
    "circle_arc1 = [R**(i)*R0*X0*~R0*~R**(i) for i in range(int(N/2+1))]\n",
    "circle_arc2 = [~R**(i)*~R0*X0*R0*R**(i) for i in range(int(N/2+1))]\n",
    "\n",
    "r = [2*a*np.cos(i*theta/N + c)/(np.sin(i*theta/N + c))**2 for i in range(int(N/2+1))]\n",
    "\n",
    "parabolic_arc1 = [general_exp(-BS*np.log(r[i])/2)*circle_arc1[i]*~(general_exp(-BS*np.log(r[i])/2)) for i in range(int(N/2+1))]\n",
    "parabolic_arc2 = [general_exp(-BS*np.log(r[i])/2)*circle_arc2[i]*~(general_exp(-BS*np.log(r[i])/2)) for i in range(int(N/2+1))]\n",
    "pp_list1 = [up(0*e1)^parabolic_arc1[i] for i in range(int(N/2 +1 ))]\n",
    "pp_list2 = [up(0*e1)^parabolic_arc2[i] for i in range(int(N/2 +1))]"
   ]
  },
  {
   "cell_type": "code",
   "execution_count": 27,
   "metadata": {},
   "outputs": [
    {
     "name": "stdout",
     "output_type": "stream",
     "text": [
      "4,1,0\n"
     ]
    }
   ],
   "source": [
    "sc = GanjaScene()\n",
    "sc.add_objects([normalise_n_minus_1(o(1)).clean(1E-6) for o in circle_arc1], color=Color.BLACK)\n",
    "sc.add_objects([normalise_n_minus_1(o(1)).clean(1E-6) for o in circle_arc2], color=Color.BLACK)\n",
    "sc.add_objects([normalise_n_minus_1(o(1)).clean(1E-6) for o in parabolic_arc1], color=Color.RED)\n",
    "sc.add_objects([normalise_n_minus_1(o(1)).clean(1E-6) for o in parabolic_arc2], color=Color.RED)\n",
    "sc.add_objects([o(2).normal().clean(1E-4) for o in pp_list1], color=0xCC000000)\n",
    "sc.add_objects([o(2).normal().clean(1E-4) for o in pp_list2], color=0xCC000000)\n",
    "draw(sc, \n",
    "    static=False, \n",
    "    scale=0.1, new_window=True)"
   ]
  },
  {
   "cell_type": "code",
   "execution_count": null,
   "metadata": {},
   "outputs": [],
   "source": []
  }
 ],
 "metadata": {
  "kernelspec": {
   "display_name": "Python 3",
   "language": "python",
   "name": "python3"
  },
  "language_info": {
   "codemirror_mode": {
    "name": "ipython",
    "version": 3
   },
   "file_extension": ".py",
   "mimetype": "text/x-python",
   "name": "python",
   "nbconvert_exporter": "python",
   "pygments_lexer": "ipython3",
   "version": "3.7.4"
  }
 },
 "nbformat": 4,
 "nbformat_minor": 2
}
