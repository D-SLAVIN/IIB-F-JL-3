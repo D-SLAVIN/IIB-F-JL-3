{
 "cells": [
  {
   "cell_type": "code",
   "execution_count": 1,
   "metadata": {},
   "outputs": [
    {
     "name": "stdout",
     "output_type": "stream",
     "text": [
      "Failed to import cef_gui, cef functions will be unavailable\n"
     ]
    }
   ],
   "source": [
    "from clifford.tools.g3c import *\n",
    "from clifford.tools.g3c.rotor_parameterisation import *\n",
    "from pyganja import *"
   ]
  },
  {
   "cell_type": "code",
   "execution_count": 9,
   "metadata": {},
   "outputs": [],
   "source": [
    "B = e1^e2\n",
    "N_12 = 15\n",
    "N_3 = 80\n",
    "f = 2/3\n",
    "c = +e1\n",
    "T = general_exp(-c^einf/2)\n",
    "R_12 = general_exp(-B*f*math.pi/N_12)\n",
    "R_3 = general_exp(-B*f*math.pi/N_3)\n",
    "\n",
    "C = up(c)\n",
    "X1 = up(1*e1)\n",
    "X2 = up(2*e1)\n",
    "X3 = up(3*e1)\n",
    "\n",
    "Arc_1 = [T*(R_12**i)*X1*~(R_12**i)*~T for i in range(N_12+1)]\n",
    "Arc_2 = [T*(R_12**i)*X2*~(R_12**i)*~T for i in range(N_12+1)]\n",
    "Arc_2_pp = [Arc_2[i]^Arc_2[i+1] for i in range(N_12)]\n",
    "Arc_3 = [T*(R_3**i)*X3*~(R_3**i)*~T for i in range(N_3+1)]\n",
    "Arc_3_pp = [Arc_3[i]^Arc_3[i+1] for i in range(N_3)]"
   ]
  },
  {
   "cell_type": "code",
   "execution_count": 11,
   "metadata": {},
   "outputs": [
    {
     "name": "stdout",
     "output_type": "stream",
     "text": [
      "4,1,0\n"
     ]
    }
   ],
   "source": [
    "sc = GanjaScene()\n",
    "sc.add_objects([normalise_n_minus_1(o(1)).clean(1E-6) for o in Arc_1], color=Color.BLACK)\n",
    "sc.add_objects([o(2).normal().clean(1E-4) for o in Arc_2_pp], color=Color.BLACK)\n",
    "sc.add_objects([o(2).normal().clean(1E-4) for o in Arc_3_pp], color=Color.BLACK)\n",
    "sc.add_objects([normalise_n_minus_1(C(1)).clean(1E-6)], color=Color.RED)\n",
    "draw(sc, \n",
    "    static=False, \n",
    "    scale=0.1, new_window=True)"
   ]
  },
  {
   "cell_type": "code",
   "execution_count": null,
   "metadata": {
    "scrolled": true
   },
   "outputs": [],
   "source": []
  },
  {
   "cell_type": "code",
   "execution_count": null,
   "metadata": {},
   "outputs": [],
   "source": []
  },
  {
   "cell_type": "code",
   "execution_count": null,
   "metadata": {},
   "outputs": [],
   "source": []
  }
 ],
 "metadata": {
  "kernelspec": {
   "display_name": "Python 3",
   "language": "python",
   "name": "python3"
  },
  "language_info": {
   "codemirror_mode": {
    "name": "ipython",
    "version": 3
   },
   "file_extension": ".py",
   "mimetype": "text/x-python",
   "name": "python",
   "nbconvert_exporter": "python",
   "pygments_lexer": "ipython3",
   "version": "3.7.4"
  }
 },
 "nbformat": 4,
 "nbformat_minor": 2
}
