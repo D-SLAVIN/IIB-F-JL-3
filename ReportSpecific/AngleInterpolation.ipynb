{
 "cells": [
  {
   "cell_type": "code",
   "execution_count": 1,
   "metadata": {},
   "outputs": [
    {
     "name": "stdout",
     "output_type": "stream",
     "text": [
      "Failed to import cef_gui, cef functions will be unavailable\n"
     ]
    }
   ],
   "source": [
    "from geomdl import NURBS\n",
    "from geomdl.visualization import VisMPL\n",
    "import numpy as np\n",
    "from matplotlib import cm\n",
    "from clifford.tools.g3c import *\n",
    "from clifford.tools.g3c.rotor_parameterisation import *\n",
    "from pyganja import *\n"
   ]
  },
  {
   "cell_type": "code",
   "execution_count": 2,
   "metadata": {},
   "outputs": [],
   "source": [
    "def list_to_CGA(x, conf=True):\n",
    "    \"\"\"\n",
    "    Takes 3D list coordinate of 'x'\n",
    "    Returns it as a confomral point multivector.\n",
    "    If False specified, then simply the 3D GA point is returned\n",
    "    \"\"\"\n",
    "    \n",
    "    c = + x[0]*e1 + x[1]*e2 - x[2]*e3\n",
    "    if conf == True :\n",
    "        return up(c)\n",
    "    else :\n",
    "        return (c)\n",
    "    \n",
    "def circle_from_dual(x, n, r=1):\n",
    "    X = list_to_CGA(x)\n",
    "    n_norm = [n[i]/np.linalg.norm(n) for i in range(3)]\n",
    "    n_vec = list_to_CGA(n_norm, False)\n",
    "    \n",
    "    d = np.abs(np.dot(x,n_norm))\n",
    "    sphere = (X - 0.5*r**2*einf)*I5\n",
    "    plane = (n_vec + d*einf)*I5\n",
    "    circle = meet(sphere, plane)\n",
    "    if (circle**2)[()] < 0 :\n",
    "        plane = (n_vec - d*einf)*I5\n",
    "        circle = meet(sphere, plane)\n",
    "        return circle\n",
    "    else :\n",
    "        \n",
    "        return circle"
   ]
  },
  {
   "cell_type": "code",
   "execution_count": 24,
   "metadata": {},
   "outputs": [],
   "source": [
    "x = np.linspace(0,1,41)\n",
    "Bc0 = np.around((1-x)**3,8)\n",
    "Bc1 = np.around(3*x*(1-x)**2,8)\n",
    "Bc2 = np.around(3*x**2*(1-x),8)\n",
    "Bc3 = np.around(x**3,8)\n",
    "N = np.around(np.array([np.cos(np.pi*np.linspace(-0.5,1.5,361)), np.sin(np.pi*np.linspace(-0.5,1.5,361)), np.zeros(361)]),8)"
   ]
  },
  {
   "cell_type": "code",
   "execution_count": 43,
   "metadata": {},
   "outputs": [],
   "source": [
    "X1 = [-7,+5,0]\n",
    "X2 = [-7,-5,0]\n",
    "X3 = [+7,-5,0]\n",
    "X4 = [+7,+5,0]\n",
    "\n",
    "\n",
    "\n",
    "\n",
    "Ci1 = circle_from_dual(X1,(1,0,0))\n",
    "Ci2 = circle_from_dual(X2,N[:,90])\n",
    "\n",
    "\n",
    "Ci3 = circle_from_dual(X3,N[:,90])\n",
    "Ci4 = circle_from_dual(X4,(1,0,0))\n",
    "\n",
    "Ci5 = circle_from_dual(X1,(1,0,0))\n",
    "Ci6 = circle_from_dual(X2,N[:,30])\n",
    "\n",
    "\n",
    "Ci7 = circle_from_dual(X3,N[:,150])\n",
    "Ci8 = circle_from_dual(X4,(1,0,0))\n",
    "\n",
    "circle_list = [average_objects([Ci1,Ci2,Ci3,Ci4], [Bc0[i],Bc1[i],Bc2[i], Bc3[i]]) for i in range(41)]\n",
    "circle_list2 = [average_objects([Ci5,Ci6,Ci7,Ci8], [Bc0[i],Bc1[i],Bc2[i], Bc3[i]]) for i in range(41)]\n",
    "\n",
    "centre_list = [normalise_n_minus_1((C*einf*C)(1)) for C in circle_list]\n",
    "centre_list2 = [normalise_n_minus_1((C*einf*C)(1)) for C in circle_list2]\n",
    "\n",
    "centre_pp_list = [centre_list[i]^centre_list[i+1] for i in range(40)]\n",
    "centre_pp_list2 = [centre_list2[i]^centre_list2[i+1] for i in range(40)]\n"
   ]
  },
  {
   "cell_type": "code",
   "execution_count": 45,
   "metadata": {},
   "outputs": [
    {
     "name": "stdout",
     "output_type": "stream",
     "text": [
      "4,1,0\n"
     ]
    }
   ],
   "source": [
    "sc = GanjaScene()\n",
    "\n",
    "\n",
    "\n",
    "\n",
    "\n",
    "\n",
    "#sc.add_objects([normalise_n_minus_1(o(1)).clean(1E-6) for o in [X1,X2,X3,X4]], color=Color.BLACK)\n",
    "#sc.add_objects([o(4).normal().clean(1E-4) for o in [Sp1,Sp2,Sp3,Sp4]], color.Color.BLACK)\n",
    "sc.add_objects([Ci1,Ci2,Ci3,Ci4], color.Color.BLUE)\n",
    "sc.add_objects([Ci5,Ci6,Ci7,Ci8], color.Color.RED)\n",
    "#sc.add_objects([o(3).normal().clean(1E-4) for o in circle_list], color.Color.BLACK)\n",
    "sc.add_objects([o(2).normal().clean(1E-4) for o in centre_pp_list], color.Color.BLUE)\n",
    "sc.add_objects([o(2).normal().clean(1E-4) for o in centre_pp_list2], color.Color.RED)\n",
    "draw(sc, \n",
    "    static=False , \n",
    "    scale=0.1, new_window=True)"
   ]
  },
  {
   "cell_type": "code",
   "execution_count": null,
   "metadata": {},
   "outputs": [],
   "source": []
  }
 ],
 "metadata": {
  "kernelspec": {
   "display_name": "Python 3",
   "language": "python",
   "name": "python3"
  },
  "language_info": {
   "codemirror_mode": {
    "name": "ipython",
    "version": 3
   },
   "file_extension": ".py",
   "mimetype": "text/x-python",
   "name": "python",
   "nbconvert_exporter": "python",
   "pygments_lexer": "ipython3",
   "version": "3.7.4"
  }
 },
 "nbformat": 4,
 "nbformat_minor": 2
}
