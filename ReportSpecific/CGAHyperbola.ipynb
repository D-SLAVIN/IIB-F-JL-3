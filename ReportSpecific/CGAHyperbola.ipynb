{
 "cells": [
  {
   "cell_type": "code",
   "execution_count": 1,
   "metadata": {},
   "outputs": [
    {
     "name": "stdout",
     "output_type": "stream",
     "text": [
      "Failed to import cef_gui, cef functions will be unavailable\n"
     ]
    }
   ],
   "source": [
    "from clifford.tools.g3c import *\n",
    "from clifford.tools.g3c.rotor_parameterisation import *\n",
    "from pyganja import *\n",
    "import numpy as np\n",
    "\n"
   ]
  },
  {
   "cell_type": "code",
   "execution_count": 109,
   "metadata": {},
   "outputs": [],
   "source": [
    "a = 2\n",
    "b = 2\n",
    "tau = 1.5"
   ]
  },
  {
   "cell_type": "code",
   "execution_count": 114,
   "metadata": {},
   "outputs": [],
   "source": [
    "BR = e1^e2\n",
    "BS = e4^e5\n",
    "N = 20 \n",
    "theta = 2*np.arctan(b*np.sinh(tau)/(a*np.cosh(tau)))\n",
    "\n",
    "\n",
    "\n",
    "R = general_exp(-BR*theta/(N*2))\n",
    "X0 = up(e1)\n",
    "\n",
    "circle_arc1 = [R**(i)*X0*~R**(i) for i in range(int(N/2+1))]\n",
    "\n",
    "circle_arc2 = [~R**(i)*X0*R**(i) for i in range(int(N/2+1))]\n",
    "\n",
    "e = (1+b**2/a**2)**0.5\n",
    "r = [b/((e*np.cos(i*theta/N))**2-1)**(0.5) for i in range(int(N/2+1))]\n",
    "\n",
    "\n",
    "elliptical_arc1 = [general_exp(-BS*np.log(r[i])/2)*circle_arc1[i]*~(general_exp(-BS*np.log(r[i])/2)) for i in range(int(N/2+1))]\n",
    "elliptical_arc2 = [general_exp(-BS*np.log(r[i])/2)*circle_arc2[i]*~(general_exp(-BS*np.log(r[i])/2)) for i in range(int(N/2+1))]\n",
    "pp_list1 = [up(0*e1)^elliptical_arc1[i] for i in range(int(N/2 +1 ))]\n",
    "pp_list2 = [up(0*e1)^elliptical_arc2[i] for i in range(int(N/2 +1))]\n",
    "\n",
    "\n"
   ]
  },
  {
   "cell_type": "code",
   "execution_count": 116,
   "metadata": {},
   "outputs": [
    {
     "name": "stdout",
     "output_type": "stream",
     "text": [
      "4,1,0\n"
     ]
    }
   ],
   "source": [
    "sc = GanjaScene()\n",
    "sc.add_objects([normalise_n_minus_1(o(1)).clean(1E-6) for o in circle_arc1], color=Color.BLACK)\n",
    "sc.add_objects([normalise_n_minus_1(o(1)).clean(1E-6) for o in circle_arc2], color=Color.BLACK)\n",
    "sc.add_objects([normalise_n_minus_1(o(1)).clean(1E-6) for o in elliptical_arc1], color=Color.RED)\n",
    "sc.add_objects([normalise_n_minus_1(o(1)).clean(1E-6) for o in elliptical_arc2], color=Color.RED)\n",
    "sc.add_objects([o(2).normal().clean(1E-4) for o in pp_list1], color=0xCC000000)\n",
    "sc.add_objects([o(2).normal().clean(1E-4) for o in pp_list2], color=0xCC000000)\n",
    "draw(sc, \n",
    "    static=False, \n",
    "    scale=0.1, new_window=True)"
   ]
  },
  {
   "cell_type": "code",
   "execution_count": 11,
   "metadata": {},
   "outputs": [
    {
     "name": "stdout",
     "output_type": "stream",
     "text": [
      "-10.0\n",
      "-9.0\n",
      "-8.0\n",
      "-7.0\n",
      "-6.0\n",
      "-5.0\n",
      "-4.0\n",
      "-3.0\n",
      "-2.0\n",
      "-1.0\n",
      "0.0\n",
      "1.0\n",
      "2.0\n",
      "3.0\n",
      "4.0\n",
      "5.0\n",
      "6.0\n",
      "7.0\n",
      "8.0\n",
      "9.0\n",
      "10.0\n"
     ]
    }
   ],
   "source": []
  },
  {
   "cell_type": "code",
   "execution_count": null,
   "metadata": {},
   "outputs": [],
   "source": []
  }
 ],
 "metadata": {
  "kernelspec": {
   "display_name": "Python 3",
   "language": "python",
   "name": "python3"
  },
  "language_info": {
   "codemirror_mode": {
    "name": "ipython",
    "version": 3
   },
   "file_extension": ".py",
   "mimetype": "text/x-python",
   "name": "python",
   "nbconvert_exporter": "python",
   "pygments_lexer": "ipython3",
   "version": "3.7.4"
  }
 },
 "nbformat": 4,
 "nbformat_minor": 2
}
