{
 "cells": [
  {
   "cell_type": "code",
   "execution_count": 1,
   "metadata": {},
   "outputs": [
    {
     "name": "stdout",
     "output_type": "stream",
     "text": [
      "Failed to import cef_gui, cef functions will be unavailable\n"
     ]
    }
   ],
   "source": [
    "from clifford.tools.g3c import *\n",
    "from clifford.tools.g3c.rotor_parameterisation import *\n",
    "from pyganja import *\n",
    "\n",
    "import numpy as np\n"
   ]
  },
  {
   "cell_type": "code",
   "execution_count": 5,
   "metadata": {},
   "outputs": [],
   "source": [
    "\n",
    "    \n",
    "def list_to_CGA(x, conf=True):\n",
    "    \"\"\"\n",
    "    Takes 1x3 list coordinate of 'x'\n",
    "    Returns it as a confomral point multivector.\n",
    "    If False specified, then simply the 3D GA point is returned\n",
    "    \"\"\"\n",
    "    \n",
    "    c = + x[0]*e1 + x[1]*e2 - x[2]*e3\n",
    "    if conf == True :\n",
    "        return up(c)\n",
    "    else :\n",
    "        return (c)\n",
    "    \n",
    "def circle_from_dual(x, n, r=1):\n",
    "    \"\"\"\n",
    "    Takes 1x3 list coordinate of 'x', which is the centre of the circle\n",
    "    Takes 1x3 list coordinate of 'n', which is the normal vector of the circle\n",
    "    \n",
    "    \"\"\"\n",
    "    #Convert x to a CGA point X \n",
    "    X = list_to_CGA(x)list_to_CGA(x)\n",
    "    \n",
    "    #Normalises n\n",
    "    n_norm = [n[i]/np.linalg.norm(n) for i in range(3)]\n",
    "    \n",
    "    #Convert n_norm to a GA point \n",
    "    n_vec = list_to_CGA(n_norm, False)\n",
    "    \n",
    "    #find shortest distance between the origin and the plane of the circle\n",
    "    d = np.abs(np.dot(x,n_norm))\n",
    "    \n",
    "    #Construct dual of a sphere\n",
    "    sphere = (X - 0.5*r**2*einf)*I5\n",
    "    \n",
    "    #constuct dual of a plane\n",
    "    plane = (n_vec + d*einf)*I5\n",
    "    circle = meet(sphere, plane)\n",
    "    if (circle**2)[()] < 0 :\n",
    "        plane = (n_vec - d*einf)*I5\n",
    "        circle = meet(sphere, plane)\n",
    "        return circle\n",
    "    else :\n",
    "        \n",
    "        return circle\n",
    "def sphere_from_dual(x,r):\n",
    "    X = list_to_CGA(x)\n",
    "    sphere = (X - 0.5*r**2*einf)*I5\n",
    "    return sphere\n",
    "\n"
   ]
  },
  {
   "cell_type": "markdown",
   "metadata": {},
   "source": [
    "# Shape 1\n"
   ]
  },
  {
   "cell_type": "code",
   "execution_count": 40,
   "metadata": {},
   "outputs": [
    {
     "name": "stdout",
     "output_type": "stream",
     "text": [
      "4,1,0\n"
     ]
    }
   ],
   "source": [
    "N = 10\n",
    "\n",
    "t = np.linspace(0,1,N+1)\n",
    "m = np.zeros([3,N+1])\n",
    "m[0] = -2*np.cos(2*np.pi*t)\n",
    "m[1] = 3*t\n",
    "m[2] = 2*np.sin(2*np.pi*t)\n",
    "r = np.zeros(N+1)\n",
    "r = r + t + 0.1\n",
    "\n",
    "\n",
    "sphere_list = [sphere_from_dual(m[:,i], r[i]) for i,t in enumerate(t)]\n",
    "centre_pp_list = [list_to_CGA(m[:,i])^list_to_CGA(m[:,i+1]) for i in range(N)]\n",
    "\n",
    "sc = GanjaScene()\n",
    "\n",
    "sc.add_objects([o(2).normal().clean(1E-4) for o in centre_pp_list], color=Color.BLACK)\n",
    "sc.add_objects([o(4).normal().clean(1E-4) for o in sphere_list], color=Color.BLACK)\n",
    "draw(sc, \n",
    "    static=False , \n",
    "    scale=0.1, new_window=True)"
   ]
  },
  {
   "cell_type": "code",
   "execution_count": 41,
   "metadata": {},
   "outputs": [
    {
     "name": "stdout",
     "output_type": "stream",
     "text": [
      "4,1,0\n"
     ]
    }
   ],
   "source": [
    "N = 100\n",
    "\n",
    "t = np.linspace(0,1,N+1)\n",
    "m = np.zeros([3,N+1])\n",
    "m[0] = -2*np.cos(2*np.pi*t)\n",
    "m[1] = 3*t\n",
    "m[2] = 2*np.sin(2*np.pi*t)\n",
    "r = np.zeros(N+1)\n",
    "r = r + t + 0.1\n",
    "\n",
    "\n",
    "sphere_list = [sphere_from_dual(m[:,i], r[i]) for i,t in enumerate(t)]\n",
    "centre_pp_list = [list_to_CGA(m[:,i])^list_to_CGA(m[:,i+1]) for i in range(N)]\n",
    "\n",
    "sc = GanjaScene()\n",
    "\n",
    "sc.add_objects([o(2).normal().clean(1E-4) for o in centre_pp_list], color=Color.BLACK)\n",
    "sc.add_objects([o(4).normal().clean(1E-4) for o in sphere_list], color=Color.BLACK)\n",
    "draw(sc, \n",
    "    static=False , \n",
    "    scale=0.1, new_window=True)"
   ]
  },
  {
   "cell_type": "code",
   "execution_count": 46,
   "metadata": {},
   "outputs": [
    {
     "name": "stdout",
     "output_type": "stream",
     "text": [
      "4,1,0\n"
     ]
    }
   ],
   "source": [
    "N = 100\n",
    "\n",
    "t = np.linspace(0,1,N+1)\n",
    "m = np.zeros([3,N+1])\n",
    "m[0] = -2*np.cos(2*np.pi*t)\n",
    "m[1] = 3*t\n",
    "m[2] = 2*np.sin(2*np.pi*t)\n",
    "\n",
    "m_ = np.zeros([3,N+1])\n",
    "m_[0] = 4*np.pi*np.sin(2*np.pi*t)\n",
    "m_[1] = 3\n",
    "m_[2] = 4*np.pi*np.cos(2*np.pi*t)\n",
    "\n",
    "r = np.zeros(N+1)\n",
    "r = r + t + 0.1\n",
    "\n",
    "\n",
    "circle_list = [circle_from_dual(m[:,i], m_[:,i], r[i]) for i,t in enumerate(t)]\n",
    "centre_list = [normalise_n_minus_1((C*einf*C)(1)) for C in circle_list]\n",
    "\n",
    "centre_pp_list = [centre_list[i]^centre_list[i+1] for i in range(N)]\n",
    "\n",
    "sc = GanjaScene()\n",
    "sc.add_objects([o(3).normal().clean(1E-4) for o in circle_list], color.Color.BLACK)\n",
    "sc.add_objects([o(2).normal().clean(1E-4) for o in centre_pp_list], color.Color.BLACK)\n",
    "draw(sc, \n",
    "    static=False , \n",
    "    scale=0.1, new_window=True)"
   ]
  },
  {
   "cell_type": "code",
   "execution_count": null,
   "metadata": {},
   "outputs": [],
   "source": []
  }
 ],
 "metadata": {
  "kernelspec": {
   "display_name": "Python 3",
   "language": "python",
   "name": "python3"
  },
  "language_info": {
   "codemirror_mode": {
    "name": "ipython",
    "version": 3
   },
   "file_extension": ".py",
   "mimetype": "text/x-python",
   "name": "python",
   "nbconvert_exporter": "python",
   "pygments_lexer": "ipython3",
   "version": "3.7.4"
  }
 },
 "nbformat": 4,
 "nbformat_minor": 2
}
